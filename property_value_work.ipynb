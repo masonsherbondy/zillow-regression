{
 "cells": [
  {
   "cell_type": "code",
   "execution_count": 1,
   "id": "f504b0b7",
   "metadata": {},
   "outputs": [
    {
     "ename": "ModuleNotFoundError",
     "evalue": "No module named 'wrangle'",
     "output_type": "error",
     "traceback": [
      "\u001b[0;31m---------------------------------------------------------------------------\u001b[0m",
      "\u001b[0;31mModuleNotFoundError\u001b[0m                       Traceback (most recent call last)",
      "\u001b[0;32m<ipython-input-1-c860d4452d6f>\u001b[0m in \u001b[0;36m<module>\u001b[0;34m\u001b[0m\n\u001b[1;32m     16\u001b[0m \u001b[0;32mfrom\u001b[0m \u001b[0msklearn\u001b[0m\u001b[0;34m.\u001b[0m\u001b[0mfeature_selection\u001b[0m \u001b[0;32mimport\u001b[0m \u001b[0mSelectKBest\u001b[0m\u001b[0;34m,\u001b[0m \u001b[0mf_regression\u001b[0m\u001b[0;34m,\u001b[0m \u001b[0mRFE\u001b[0m\u001b[0;34m\u001b[0m\u001b[0;34m\u001b[0m\u001b[0m\n\u001b[1;32m     17\u001b[0m \u001b[0;34m\u001b[0m\u001b[0m\n\u001b[0;32m---> 18\u001b[0;31m \u001b[0;32mimport\u001b[0m \u001b[0mwrangle\u001b[0m\u001b[0;34m\u001b[0m\u001b[0;34m\u001b[0m\u001b[0m\n\u001b[0m",
      "\u001b[0;31mModuleNotFoundError\u001b[0m: No module named 'wrangle'"
     ]
    }
   ],
   "source": [
    "#learn kung fu\n",
    "import numpy as np\n",
    "import pandas as pd\n",
    "import matplotlib.pyplot as plt\n",
    "import seaborn as sns\n",
    "import mason_functions as mf\n",
    "\n",
    "import os\n",
    "import evaluate\n",
    "import warnings\n",
    "warnings.filterwarnings('ignore')\n",
    "\n",
    "import sklearn.preprocessing\n",
    "from sklearn.model_selection import train_test_split\n",
    "from sklearn.linear_model import LinearRegression\n",
    "from sklearn.feature_selection import SelectKBest, f_regression, RFE\n",
    "\n",
    "import wrangle"
   ]
  },
  {
   "cell_type": "code",
   "execution_count": null,
   "id": "d713b87a",
   "metadata": {},
   "outputs": [],
   "source": [
    "#define my sql query to access the relational database\n",
    "sql = '''\n",
    "SELECT bathroomcnt, bedroomcnt, calculatedfinishedsquarefeet, taxvaluedollarcnt\n",
    "FROM predictions_2017\n",
    "LEFT JOIN properties_2017 USING(parcelid)\n",
    "WHERE propertylandusetypeid = 261 or propertylandusetypeid = 279\n",
    "'''\n",
    "\n",
    "#define my url\n",
    "url = mf.get_db_url('zillow')\n",
    "\n",
    "#read the information from a database into a dataframe\n",
    "#I also will not continuously query the database; instead, I will write the data to a .csv (in case the kernel gotta go)\n",
    "if os.path.isfile('zillow_nadir.csv'):\n",
    "    df = pd.read_csv('zillow_nadir.csv', index_col = 0)\n",
    "else:\n",
    "    df = pd.read_sql(sql, url)\n",
    "    df.to_csv('zillow_nadir.csv')"
   ]
  },
  {
   "cell_type": "code",
   "execution_count": null,
   "id": "8ae94c1c",
   "metadata": {},
   "outputs": [],
   "source": [
    "#at a glance\n",
    "pd.options.display.max_columns = 69\n",
    "pd.options.display.max_rows = 69\n",
    "df.info()"
   ]
  },
  {
   "cell_type": "code",
   "execution_count": null,
   "id": "eeb64d0d",
   "metadata": {},
   "outputs": [],
   "source": [
    "#double-take\n",
    "df.head()"
   ]
  },
  {
   "cell_type": "code",
   "execution_count": null,
   "id": "4afe952d",
   "metadata": {},
   "outputs": [],
   "source": [
    "#ok, this hurts to look at. rename the columns\n",
    "df = df.rename(columns = {'bathroomcnt': 'bathroom_count',\n",
    "                  'bedroomcnt': 'bedroom_count',\n",
    "                  'calculatedfinishedsquarefeet': 'square_footage',\n",
    "                  'taxvaluedollarcnt': 'tax_value'\n",
    "                  })"
   ]
  },
  {
   "cell_type": "code",
   "execution_count": null,
   "id": "8268e1bf",
   "metadata": {},
   "outputs": [],
   "source": [
    "#summary statistics\n",
    "df.describe().T"
   ]
  },
  {
   "cell_type": "code",
   "execution_count": null,
   "id": "67f0f964",
   "metadata": {},
   "outputs": [],
   "source": [
    "#Nulls?\n",
    "df.isnull().any()"
   ]
  },
  {
   "cell_type": "code",
   "execution_count": null,
   "id": "4562c117",
   "metadata": {},
   "outputs": [],
   "source": [
    "#how many nulls and where?\n",
    "df.isnull().sum()"
   ]
  },
  {
   "cell_type": "code",
   "execution_count": null,
   "id": "edb913c4",
   "metadata": {},
   "outputs": [],
   "source": [
    "#quick reminder on total number observations\n",
    "mf.add_commas(len(df))"
   ]
  },
  {
   "cell_type": "code",
   "execution_count": null,
   "id": "fdcbda7b",
   "metadata": {},
   "outputs": [],
   "source": [
    "#okay, yeah, I do not need these 82 observations out of 50K total\n",
    "#I will drop the row where the target value is null, because I cannot fathom a use for it at the moment\n",
    "df = df[df.square_footage.notnull()]\n",
    "df = df[df.tax_value.notnull()]"
   ]
  },
  {
   "cell_type": "code",
   "execution_count": null,
   "id": "297edcbf",
   "metadata": {},
   "outputs": [],
   "source": [
    "#confirm dropped rows\n",
    "mf.add_commas(len(df))"
   ]
  },
  {
   "cell_type": "code",
   "execution_count": null,
   "id": "3cf707af",
   "metadata": {},
   "outputs": [],
   "source": [
    "#let's take another look\n",
    "df.info()"
   ]
  },
  {
   "cell_type": "code",
   "execution_count": null,
   "id": "6c879b72",
   "metadata": {},
   "outputs": [],
   "source": [
    "#data is prepped. Let's make a function\n",
    "def acq_zillow_nadir():\n",
    "        \n",
    "    '''\n",
    "    This function reads the data from a database into a dataframe.\n",
    "    I also will not continuously query the database; instead, I will write the data to a .csv (in case the kernel gotta go)\n",
    "    '''\n",
    "    \n",
    "    #define my sql query\n",
    "    sql = '''\n",
    "    SELECT bathroomcnt, bedroomcnt, calculatedfinishedsquarefeet, taxvaluedollarcnt\n",
    "    FROM predictions_2017\n",
    "    LEFT JOIN properties_2017 USING(parcelid)\n",
    "    WHERE propertylandusetypeid = 261 or propertylandusetypeid = 279\n",
    "    '''\n",
    "\n",
    "    #define my url using a url-retrieval function from my personal .py\n",
    "    url = mf.get_db_url('zillow')\n",
    "\n",
    "    #set up an if-conditional to see if there is a .csv readily available\n",
    "    if os.path.isfile('zillow_nadir.csv'):\n",
    "        \n",
    "        #if there is, render a workable dataframe from the .csv\n",
    "        df = pd.read_csv('zillow_nadir.csv', index_col = 0)\n",
    "        \n",
    "    #if not, access the relational database, and then write data to a .csv for later ease of access\n",
    "    else:\n",
    "        df = pd.read_sql(sql, url)\n",
    "        df.to_csv('zillow_nadir.csv')\n",
    "    \n",
    "    #return the dataframe\n",
    "    return df"
   ]
  },
  {
   "cell_type": "code",
   "execution_count": null,
   "id": "ef636d42",
   "metadata": {},
   "outputs": [],
   "source": [
    "#let's do it again\n",
    "def clean_zillow_nadir():\n",
    "    '''\n",
    "    This function acquires my zillow data, drops any observations where the values are missing, and renames the columns so that they are easier to work with.\n",
    "    '''\n",
    "    zillow_nadir = acq_zillow_nadir()\n",
    "    zillow_nadir = zillow_nadir.rename(columns = {'bathroomcnt': 'bathroom_count',\n",
    "                  'bedroomcnt': 'bedroom_count',\n",
    "                  'calculatedfinishedsquarefeet': 'square_footage',\n",
    "                  'taxvaluedollarcnt': 'tax_value'\n",
    "                  })\n",
    "    zillow_nadir = zillow_nadir[zillow_nadir.square_footage.notnull()]\n",
    "    zillow_nadir = zillow_nadir[zillow_nadir.tax_value.notnull()]\n",
    "    \n",
    "    return zillow_nadir"
   ]
  },
  {
   "cell_type": "code",
   "execution_count": null,
   "id": "65f792c1",
   "metadata": {},
   "outputs": [],
   "source": [
    "#one more time\n",
    "def prep_zillow_nadir():\n",
    "    #clean the dataframe\n",
    "    zillow_nadir = clean_zillow_nadir()\n",
    "    \n",
    "    #split the data with a function from my personal .py\n",
    "    train, validate, test = mf.split_data(zillow_nadir)\n",
    "    \n",
    "    #return the data\n",
    "    return train, validate, test"
   ]
  },
  {
   "cell_type": "code",
   "execution_count": null,
   "id": "dbbd3056",
   "metadata": {},
   "outputs": [],
   "source": [
    "#test wrangle\n",
    "train, validate, test = prep_zillow_nadir()"
   ]
  },
  {
   "cell_type": "code",
   "execution_count": null,
   "id": "ff715bf3",
   "metadata": {},
   "outputs": [],
   "source": [
    "#check shapes - looks clear\n",
    "train.shape, validate.shape, test.shape"
   ]
  },
  {
   "cell_type": "code",
   "execution_count": null,
   "id": "3c152965",
   "metadata": {},
   "outputs": [],
   "source": []
  }
 ],
 "metadata": {
  "kernelspec": {
   "display_name": "Python 3",
   "language": "python",
   "name": "python3"
  },
  "language_info": {
   "codemirror_mode": {
    "name": "ipython",
    "version": 3
   },
   "file_extension": ".py",
   "mimetype": "text/x-python",
   "name": "python",
   "nbconvert_exporter": "python",
   "pygments_lexer": "ipython3",
   "version": "3.8.8"
  }
 },
 "nbformat": 4,
 "nbformat_minor": 5
}
